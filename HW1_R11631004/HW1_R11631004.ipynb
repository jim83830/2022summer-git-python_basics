{
 "cells": [
  {
   "cell_type": "code",
   "execution_count": 34,
   "metadata": {},
   "outputs": [
    {
     "name": "stdout",
     "output_type": "stream",
     "text": [
      "539\n",
      "169\n",
      "33 173 154 114 55 10\n",
      "43 203 141 112 39 1\n"
     ]
    }
   ],
   "source": [
    "with open(\"HW1.txt\", \"r\") as t:\n",
    "    readlines = t.readlines()\n",
    "    n_sent = len(readlines)\n",
    "    n_symb = 0\n",
    "    n_le40 = 0\n",
    "    n_le50 = 0\n",
    "    n_le60 = 0\n",
    "    n_le70 = 0\n",
    "    n_le80 = 0\n",
    "    n_gt80 = 0\n",
    "    new_le40 = 0\n",
    "    new_le50 = 0\n",
    "    new_le60 = 0\n",
    "    new_le70 = 0\n",
    "    new_le80 = 0\n",
    "    new_gt80 = 0\n",
    "    #print(readlines)\n",
    "    for readline in readlines:\n",
    "        #print(readline)\n",
    "        length = len(readline) - 1\n",
    "        if (length <= 40):\n",
    "            n_le40 += 1\n",
    "        elif (length > 40 and length <= 50):\n",
    "            n_le50 += 1\n",
    "        elif (length > 50 and length <= 60):\n",
    "            n_le60 += 1\n",
    "        elif (length > 60 and length <= 70):\n",
    "            n_le70 += 1\n",
    "        elif (length > 70 and length <= 80):\n",
    "            n_le80 += 1\n",
    "        else:\n",
    "            n_gt80 += 1\n",
    "        if(\"!\" in readline or \"?\" in readline or \"+\" in readline or \"-\" in readline):#)  or \".\" in readline):\n",
    "            n_symb += 1\n",
    "            readline = readline.replace(\"!\", \"\")\n",
    "            readline = readline.replace(\"?\", \"\")\n",
    "            readline = readline.replace(\"+\", \"\")\n",
    "            readline = readline.replace(\"-\", \"\")\n",
    "        #print(readline)\n",
    "        new_length = len(readline) - 1\n",
    "        if (new_length <= 40):\n",
    "            new_le40 += 1\n",
    "        elif (new_length > 40 and new_length <= 50):\n",
    "            new_le50 += 1\n",
    "        elif (new_length > 50 and new_length <= 60):\n",
    "            new_le60 += 1\n",
    "        elif (new_length > 60 and new_length <= 70):\n",
    "            new_le70 += 1\n",
    "        elif (new_length > 70 and new_length <= 80):\n",
    "            new_le80 += 1\n",
    "        else:\n",
    "            new_gt80 += 1\n",
    "print(n_sent)\n",
    "print(n_symb)\n",
    "#print(readlines)\n",
    "print(n_le40, n_le50, n_le60, n_le70, n_le80, n_gt80)\n",
    "print(new_le40, new_le50, new_le60, new_le70, new_le80, new_gt80)"
   ]
  },
  {
   "cell_type": "code",
   "execution_count": 55,
   "metadata": {},
   "outputs": [],
   "source": [
    "with open (\"HW1_R11631004.txt\", \"w\") as o:\n",
    "    o.write(\"There are \" + str(n_sent) + \" sentences in HW1.txt. \" + str(n_symb) + \" of them include !?+-.\\n\")\n",
    "    o.write(\"length before trim after trim\\n\")\n",
    "    o.write(\"%6s\" % \"<=40\" + \"%12s\" % str(n_le40) + \"%11s\" % str(new_le40) + \"\\n\")\n",
    "    o.write(\"%6s\" % \"<=50\" + \"%12s\" % str(n_le50) + \"%11s\" % str(new_le50) + \"\\n\")\n",
    "    o.write(\"%6s\" % \"<=60\" + \"%12s\" % str(n_le60) + \"%11s\" % str(new_le60) + \"\\n\")\n",
    "    o.write(\"%6s\" % \"<=70\" + \"%12s\" % str(n_le70) + \"%11s\" % str(new_le70) + \"\\n\")\n",
    "    o.write(\"%6s\" % \"<=80\" + \"%12s\" % str(n_le80) + \"%11s\" % str(new_le80) + \"\\n\")\n",
    "    o.write(\"%6s\" % \">80\" + \"%12s\" % str(n_gt80) + \"%11s\" % str(new_gt80) + \"\\n\")"
   ]
  }
 ],
 "metadata": {
  "kernelspec": {
   "display_name": "Python 3.9.12 ('base': conda)",
   "language": "python",
   "name": "python3"
  },
  "language_info": {
   "codemirror_mode": {
    "name": "ipython",
    "version": 3
   },
   "file_extension": ".py",
   "mimetype": "text/x-python",
   "name": "python",
   "nbconvert_exporter": "python",
   "pygments_lexer": "ipython3",
   "version": "3.9.12"
  },
  "orig_nbformat": 4,
  "vscode": {
   "interpreter": {
    "hash": "70d8d1dd054d66b861ed30a8be31db8836dc32d5de418dc50566843320bd80fe"
   }
  }
 },
 "nbformat": 4,
 "nbformat_minor": 2
}
